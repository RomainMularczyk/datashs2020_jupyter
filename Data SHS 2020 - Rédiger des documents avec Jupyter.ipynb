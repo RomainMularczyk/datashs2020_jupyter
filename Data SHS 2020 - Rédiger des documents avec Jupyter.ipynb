{
 "cells": [
  {
   "cell_type": "markdown",
   "metadata": {
    "slideshow": {
     "slide_type": "slide"
    }
   },
   "source": [
    "# Produire des documents hybrides avec Jupyter\n",
    "\n",
    "## Texte, code, graphiques, média, web, etc."
   ]
  },
  {
   "cell_type": "markdown",
   "metadata": {
    "slideshow": {
     "slide_type": "slide"
    }
   },
   "source": [
    "## Jupyter ?\n",
    "\n",
    "* Un **environnement d'exécution de code**\n",
    "    * Un kernel pour interpréter le code (Python, R, Matlab, Julia, Fortran, etc.)\n",
    "* Un **éditeur de texte et de code**\n",
    "    * Jupyter comprend Markdown\n",
    "    * Donc logiquement HTML aussi\n",
    "    * On peut donc transformer les documents exporter comme on le souhaite en adessant un fichier de style CSS\n",
    "* Un **outil d'export**\n",
    "    * Différents formats de sortie (Markdown, HTML, PDF, LaTeX, Python, etc.)"
   ]
  },
  {
   "cell_type": "markdown",
   "metadata": {},
   "source": [
    "## Installer Jupyter Notebook sur sa machine\n",
    "\n",
    "1. **Télécharger une version de Python 3** : https://www.python.org/downloads/\n",
    "2. **Installer Jupyter**\n",
    "    * Ouvrir une fenête terminal\n",
    "    * Entrer la commande suivante : `pip3 install jupyter`\n",
    "3. **Lancer Jupyter**\n",
    "    * Ouvrir une fenêtre du terminal et lancer la commande : `jupyter notebook` (pour ouvrir le fichier directement dans un dossier de travail, on naviguera au préalable jusqu'au dossier en question via le terminal)\n",
    "\n",
    "4. **Alternative : utiliser MyBinder ou d'autres services permettant d'héberger des notebooks en ligne**\n",
    "    * MyBinder : https://mybinder.org"
   ]
  },
  {
   "cell_type": "markdown",
   "metadata": {
    "slideshow": {
     "slide_type": "slide"
    }
   },
   "source": [
    "## Plus concrètement ?\n",
    "\n",
    "<br>\n",
    "<div>\n",
    "    <input type=\"checkbox\" label=\"text\" name=\"q1\">\n",
    "    <label for=\"text\">Rédiger des documents texte.</label>\n",
    "</div>\n",
    "<div>\n",
    "    <input type=\"checkbox\" label=\"text\" name=\"q2\">\n",
    "    <label for=\"text\">Ecrire du code fonctionnel.</label>\n",
    "</div>\n",
    "<div>\n",
    "    <input type=\"checkbox\" label=\"text\" name=\"q1\">\n",
    "    <label for=\"text\">Produire et visualiser des graphiques.</label>\n",
    "</div>\n",
    "<div>\n",
    "    <input type=\"checkbox\" label=\"text\" name=\"q1\">\n",
    "    <label for=\"text\">Rédiger proprement ses équations.</label>\n",
    "</div>\n",
    "<div>\n",
    "    <input type=\"checkbox\" label=\"text\" name=\"q1\">\n",
    "    <label for=\"text\">Inclure du contenu média.</label>\n",
    "</div>"
   ]
  },
  {
   "cell_type": "markdown",
   "metadata": {
    "slideshow": {
     "slide_type": "slide"
    }
   },
   "source": [
    "## Jupyter\n",
    "\n",
    "<img src=\"https://66.media.tumblr.com/e547d54be5691f7a0418b7a21d7232a4/tumblr_oge82hxfBc1rvp8byo1_250.gif\"/>"
   ]
  }
 ],
 "metadata": {
  "celltoolbar": "Diaporama",
  "kernelspec": {
   "display_name": "Python 3",
   "language": "python",
   "name": "python3"
  },
  "language_info": {
   "codemirror_mode": {
    "name": "ipython",
    "version": 3
   },
   "file_extension": ".py",
   "mimetype": "text/x-python",
   "name": "python",
   "nbconvert_exporter": "python",
   "pygments_lexer": "ipython3",
   "version": "3.8.5"
  }
 },
 "nbformat": 4,
 "nbformat_minor": 4
}

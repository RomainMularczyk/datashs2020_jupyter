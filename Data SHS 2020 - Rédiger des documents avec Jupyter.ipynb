{
 "cells": [
  {
   "cell_type": "markdown",
   "metadata": {
    "slideshow": {
     "slide_type": "slide"
    }
   },
   "source": [
    "# Produire des documents hybrides avec Jupyter\n",
    "\n",
    "## Texte, code, graphiques, média, web, etc."
   ]
  },
  {
   "cell_type": "markdown",
   "metadata": {
    "slideshow": {
     "slide_type": "slide"
    }
   },
   "source": [
    "## Jupyter ?\n",
    "\n",
    "* Un **environnement d'exécution de code**\n",
    "    * Un kernel pour interpréter le code (Python, R, Matlab, Julia, Fortran, etc.)\n",
    "* Un **éditeur de texte et de code**\n",
    "    * Jupyter comprend Markdown\n",
    "    * Donc logiquement HTML aussi\n",
    "    * On peut donc transformer les documents comme on le souhaite en y adossant un fichier de style CSS\n",
    "* Un **outil d'export**\n",
    "    * Différents formats de sortie (Markdown, HTML, PDF, LaTeX, Python, etc.)"
   ]
  },
  {
   "cell_type": "markdown",
   "metadata": {
    "slideshow": {
     "slide_type": "slide"
    }
   },
   "source": [
    "## Installer Jupyter Notebook sur sa machine\n",
    "\n",
    "1. **Télécharger une version de Python 3** : https://www.python.org/downloads/\n",
    "2. **Installer Jupyter**\n",
    "    * Ouvrir une fenête terminal\n",
    "    * Entrer la commande suivante : `pip3 install jupyter`\n",
    "3. **Lancer Jupyter**\n",
    "    * Ouvrir une fenêtre du terminal et lancer la commande : `jupyter notebook` (pour ouvrir le fichier directement dans un dossier de travail, on naviguera au préalable jusqu'au dossier en question via le terminal)\n",
    "\n",
    "4. **Alternative : utiliser MyBinder ou d'autres services permettant d'héberger des notebooks en ligne**\n",
    "    * MyBinder : https://mybinder.org\n",
    "    * Récupérer la présentation [ici](https://github.com/RomainMularczyk/datashs2020_jupyter/blob/master/Quelques%20exemples.ipynb)"
   ]
  },
  {
   "cell_type": "markdown",
   "metadata": {
    "slideshow": {
     "slide_type": "slide"
    }
   },
   "source": [
    "## Plus concrètement ?\n",
    "\n",
    "<br>\n",
    "<div>\n",
    "    <input type=\"checkbox\" label=\"text\" name=\"q1\">\n",
    "    <label for=\"text\">Rédiger des documents texte.</label>\n",
    "</div>\n",
    "<div>\n",
    "    <input type=\"checkbox\" label=\"text\" name=\"q2\">\n",
    "    <label for=\"text\">Ecrire du code fonctionnel.</label>\n",
    "</div>\n",
    "<div>\n",
    "    <input type=\"checkbox\" label=\"text\" name=\"q3\">\n",
    "    <label for=\"text\">Produire et visualiser des graphiques.</label>\n",
    "</div>\n",
    "<div>\n",
    "    <input type=\"checkbox\" label=\"text\" name=\"q4\">\n",
    "    <label for=\"text\">Rédiger proprement ses équations.</label>\n",
    "</div>\n",
    "<div>\n",
    "    <input type=\"checkbox\" label=\"text\" name=\"q5\">\n",
    "    <label for=\"text\">Exporter des documents pour divers supports (papier, web, présentation).</label>\n",
    "</div>\n",
    "<div>\n",
    "    <input type=\"checkbox\" label=\"text\" name=\"q6\">\n",
    "    <label for=\"text\">Inclure du contenu média.</label>\n",
    "</div>"
   ]
  },
  {
   "cell_type": "markdown",
   "metadata": {
    "slideshow": {
     "slide_type": "slide"
    }
   },
   "source": [
    "## Est-ce que Jupyter peut tout faire ?\n",
    "\n",
    "<img src=\"https://66.media.tumblr.com/e547d54be5691f7a0418b7a21d7232a4/tumblr_oge82hxfBc1rvp8byo1_250.gif\"/>"
   ]
  },
  {
   "cell_type": "markdown",
   "metadata": {
    "slideshow": {
     "slide_type": "subslide"
    }
   },
   "source": [
    "# Oui\n",
    "(pas loin...)"
   ]
  },
  {
   "cell_type": "markdown",
   "metadata": {
    "slideshow": {
     "slide_type": "slide"
    }
   },
   "source": [
    "## Mais est-ce que c'est coûteux d'apprendre ?\n",
    "\n",
    "* Apprendre à rédiger en **Markdown**\n",
    "    * Titre, mise en forme minimale (**il suffit de savoir manier des symboles comme ceux-ci : #, ***)\n",
    "* **Jupyter nous aide**\n",
    "    * Pour vous en convaincre, appuyez sur la touche `H` de votre clavier\n",
    "* **Une porte d'entrée vers d'autres outils**\n",
    "    * Plus facile de rédiger des segments en LaTeX"
   ]
  },
  {
   "cell_type": "markdown",
   "metadata": {
    "slideshow": {
     "slide_type": "slide"
    }
   },
   "source": [
    "## Quels usages ?\n",
    "\n",
    "* Plutôt pour celles et ceux qui ont **déjà une pratique de programmation**\n",
    "    * Beaucoup utilisé avec Python mais fonctionne très bien avec d'autres langages d'analyse de données comme R\n",
    "* Mais fonctionne très bien pour **d'autres usages**\n",
    "    * Faire des slides propres, rapidement et facilement..."
   ]
  },
  {
   "cell_type": "markdown",
   "metadata": {
    "slideshow": {
     "slide_type": "slide"
    }
   },
   "source": [
    "## Quels avantages ?\n",
    "\n",
    "* **Produire des documents multiformes**\n",
    "    * Export en HTML\n",
    "    * Export en PDF\n",
    "    * Export en Markdown\n",
    "* **Tout faire au même endroit**\n",
    "    * Exit Excel, exit Word\n",
    "    * Des formats interopérables et lisibles sur toutes les machines\n",
    "* **Mieux faire**\n",
    "    * Se réapproprier des outils d'écriture que l'on comprend et qui font ce qu'on leur demande de faire\n",
    "    * Prototyper, tester, interagir"
   ]
  }
 ],
 "metadata": {
  "celltoolbar": "Diaporama",
  "kernelspec": {
   "display_name": "Python 3",
   "language": "python",
   "name": "python3"
  },
  "language_info": {
   "codemirror_mode": {
    "name": "ipython",
    "version": 3
   },
   "file_extension": ".py",
   "mimetype": "text/x-python",
   "name": "python",
   "nbconvert_exporter": "python",
   "pygments_lexer": "ipython3",
   "version": "3.8.5"
  },
  "toc": {
   "base_numbering": 1,
   "nav_menu": {},
   "number_sections": false,
   "sideBar": true,
   "skip_h1_title": false,
   "title_cell": "Table of Contents",
   "title_sidebar": "Contents",
   "toc_cell": false,
   "toc_position": {},
   "toc_section_display": true,
   "toc_window_display": false
  }
 },
 "nbformat": 4,
 "nbformat_minor": 4
}
